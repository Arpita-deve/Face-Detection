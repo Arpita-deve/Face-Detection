{
 "cells": [
  {
   "cell_type": "code",
   "execution_count": 1,
   "id": "8d9a6b47",
   "metadata": {},
   "outputs": [],
   "source": [
    "import cv2\n",
    "import os\n",
    "import pickle\n",
    "import numpy as np\n",
    "\n"
   ]
  },
  {
   "cell_type": "code",
   "execution_count": 2,
   "id": "768717db",
   "metadata": {},
   "outputs": [],
   "source": [
    "data_dir = os.path.join(os.getcwd(),'clean_data')\n",
    "img_dir = os.path.join(os.getcwd(),'images')"
   ]
  },
  {
   "cell_type": "code",
   "execution_count": 3,
   "id": "f1ba5d71",
   "metadata": {},
   "outputs": [],
   "source": [
    "image_data = []\n",
    "labels = []\n",
    "\n"
   ]
  },
  {
   "cell_type": "code",
   "execution_count": 4,
   "id": "3498bb11",
   "metadata": {},
   "outputs": [],
   "source": [
    "for i in os.listdir(img_dir):\n",
    "    image = cv2.imread(os.path.join(img_dir,i))\n",
    "    image = cv2.resize(image,(100,100))\n",
    "    image = cv2.cvtColor(image,cv2.COLOR_BGR2GRAY)\n",
    "    image_data.append(image)\n",
    "    labels.append(str(i).split(\"_\")[0])\n",
    "    \n"
   ]
  },
  {
   "cell_type": "code",
   "execution_count": 30,
   "id": "3e6ea952",
   "metadata": {},
   "outputs": [
    {
     "name": "stdout",
     "output_type": "stream",
     "text": [
      "['Abinash' 'Abinash' 'Abinash' 'Abinash' 'Abinash' 'Abinash' 'Abinash'\n",
      " 'Abinash' 'Abinash' 'Abinash' 'Abinash' 'Abinash' 'Abinash' 'Abinash'\n",
      " 'Abinash' 'Abinash' 'Abinash' 'Abinash' 'Abinash' 'Abinash' 'Abinash'\n",
      " 'Abinash' 'Abinash' 'Abinash' 'Abinash' 'Abinash' 'Abinash' 'Abinash'\n",
      " 'Abinash' 'Abinash' 'Abinash' 'Abinash' 'Abinash' 'Abinash' 'Abinash'\n",
      " 'Abinash' 'Abinash' 'Abinash' 'Abinash' 'Abinash' 'Abinash' 'Abinash'\n",
      " 'Abinash' 'Abinash' 'Abinash' 'Abinash' 'Abinash' 'Abinash' 'Abinash'\n",
      " 'Abinash' 'Abinash' 'Abinash' 'Abinash' 'Abinash' 'Abinash' 'Abinash'\n",
      " 'Abinash' 'Abinash' 'Abinash' 'Abinash' 'Abinash' 'Abinash' 'Abinash'\n",
      " 'Abinash' 'Abinash' 'Abinash' 'Abinash' 'Abinash' 'Abinash' 'Abinash'\n",
      " 'Abinash' 'Abinash' 'Abinash' 'Abinash' 'Abinash' 'Abinash' 'Abinash'\n",
      " 'Abinash' 'Abinash' 'Abinash' 'Abinash' 'Abinash' 'Abinash' 'Abinash'\n",
      " 'Abinash' 'Abinash' 'Abinash' 'Abinash' 'Abinash' 'Abinash' 'Abinash'\n",
      " 'Abinash' 'Abinash' 'Abinash' 'Abinash' 'Abinash' 'Abinash' 'Abinash'\n",
      " 'Amrita' 'Amrita' 'Amrita' 'Amrita' 'Amrita' 'Amrita' 'Amrita' 'Amrita'\n",
      " 'Amrita' 'Amrita' 'Amrita' 'Amrita' 'Amrita' 'Amrita' 'Amrita' 'Amrita'\n",
      " 'Amrita' 'Amrita' 'Amrita' 'Amrita' 'Amrita' 'Amrita' 'Amrita' 'Amrita'\n",
      " 'Amrita' 'Amrita' 'Amrita' 'Amrita' 'Amrita' 'Amrita' 'Amrita' 'Amrita'\n",
      " 'Amrita' 'Amrita' 'Amrita' 'Amrita' 'Amrita' 'Amrita' 'Amrita' 'Amrita'\n",
      " 'Amrita' 'Amrita' 'Amrita' 'Amrita' 'Amrita' 'Amrita' 'Amrita' 'Amrita'\n",
      " 'Amrita' 'Amrita' 'Amrita' 'Amrita' 'Amrita' 'Amrita' 'Amrita' 'Amrita'\n",
      " 'Amrita' 'Amrita' 'Amrita' 'Amrita' 'Amrita' 'Amrita' 'Amrita' 'Amrita'\n",
      " 'Amrita' 'Amrita' 'Amrita' 'Amrita' 'Amrita' 'Amrita' 'Amrita' 'Amrita'\n",
      " 'Amrita' 'Amrita' 'Amrita' 'Amrita' 'Amrita' 'Amrita' 'Amrita' 'Amrita'\n",
      " 'Amrita' 'Amrita' 'Amrita' 'Amrita' 'Amrita' 'Amrita' 'Amrita' 'Amrita'\n",
      " 'Amrita' 'Anandi' 'Anandi' 'Anandi' 'Anandi' 'Anandi' 'Anandi' 'Anandi'\n",
      " 'Anandi' 'Anandi' 'Anandi' 'Anandi' 'Anandi' 'Anandi' 'Anandi' 'Anandi'\n",
      " 'Anandi' 'Anandi' 'Anandi' 'Anandi' 'Anandi' 'Anandi' 'Anandi' 'Anandi'\n",
      " 'Anandi' 'Anandi' 'Anandi' 'Anandi' 'Anandi' 'Anandi' 'Anandi' 'Anandi'\n",
      " 'Anandi' 'Anandi' 'Anandi' 'Anandi' 'Anandi' 'Anandi' 'Anandi' 'Anandi'\n",
      " 'Anandi' 'Anandi' 'Anandi' 'Anandi' 'Anandi' 'Anandi' 'Anandi' 'Anandi'\n",
      " 'Anandi' 'Anandi' 'Anandi' 'Anandi' 'Anandi' 'Anandi' 'Anandi' 'Anandi'\n",
      " 'Anandi' 'Anandi' 'Anandi' 'Anandi' 'Anandi' 'Anandi' 'Anandi' 'Anandi'\n",
      " 'Anandi' 'Anandi' 'Anandi' 'Anandi' 'Anandi' 'Anandi' 'Anandi' 'Anandi'\n",
      " 'Anandi' 'Anandi' 'Anandi' 'Anandi' 'Anandi' 'Anandi' 'Anandi' 'Anandi'\n",
      " 'Anandi' 'Anandi' 'Anandi' 'Anandi' 'Anandi' 'Arpita' 'Arpita' 'Arpita'\n",
      " 'Arpita' 'Arpita' 'Arpita' 'Arpita' 'Arpita' 'Arpita' 'Arpita' 'Arpita'\n",
      " 'Arpita' 'Arpita' 'Arpita' 'Arpita' 'Arpita' 'Arpita' 'Arpita' 'Arpita'\n",
      " 'Arpita' 'Arpita' 'Arpita' 'Arpita' 'Arpita' 'Arpita' 'Arpita' 'Arpita'\n",
      " 'Arpita' 'Arpita' 'Arpita' 'Arpita' 'Arpita' 'Arpita' 'Arpita' 'Arpita'\n",
      " 'Arpita' 'Arpita' 'Arpita' 'Arpita' 'Arpita' 'Arpita' 'Arpita' 'Arpita'\n",
      " 'Arpita' 'Arpita' 'Arpita' 'Arpita' 'Arpita' 'Arpita' 'Arpita' 'Arpita'\n",
      " 'Arpita' 'Arpita' 'Arpita' 'Arpita' 'Arpita' 'Arpita' 'Arpita' 'Arpita'\n",
      " 'Arpita' 'Arpita' 'Arpita' 'Arpita' 'Arpita' 'Arpita' 'Arpita' 'Arpita'\n",
      " 'Arpita' 'Arpita' 'Arpita' 'Arpita' 'Arpita' 'Arpita' 'Arpita' 'Arpita'\n",
      " 'Arpita' 'Arpita' 'Arpita' 'Arpita' 'Arpita' 'Arpita' 'Arpita' 'Arpita'\n",
      " 'Arpita' 'Arpita' 'Arpita' 'Arpita' 'Arpita' 'Arpita' 'Arpita' 'Arpita'\n",
      " 'Arpita' 'Arpita' 'Arpita' 'Arpita' 'Arpita' 'Arpita' 'Arpita' 'Arpita'\n",
      " 'Asish' 'Asish' 'Asish' 'Asish' 'Asish' 'Asish' 'Asish' 'Asish' 'Asish'\n",
      " 'Asish' 'Asish' 'Asish' 'Asish' 'Asish' 'Asish' 'Asish' 'Asish' 'Asish'\n",
      " 'Asish' 'Asish' 'Asish' 'Asish' 'Asish' 'Asish' 'Asish' 'Asish' 'Asish'\n",
      " 'Asish' 'Asish' 'Asish' 'Asish' 'Asish' 'Asish' 'Asish' 'Asish' 'Asish'\n",
      " 'Asish' 'Asish' 'Asish' 'Asish' 'Asish' 'Asish' 'Asish' 'Asish' 'Asish'\n",
      " 'Asish' 'Asish' 'Asish' 'Asish' 'Asish' 'Asish' 'Asish' 'Asish' 'Asish'\n",
      " 'Asish' 'Asish' 'Asish' 'Asish' 'Asish' 'Asish' 'Asish' 'Asish' 'Asish'\n",
      " 'Asish' 'Asish' 'Asish' 'Asish' 'Asish' 'Asish' 'Asish' 'Asish' 'Asish'\n",
      " 'Asish' 'Asish' 'Asish' 'Asish' 'Asish' 'Asish' 'Asish' 'Asish' 'Asish'\n",
      " 'Asish' 'Asish' 'DIBYAJYOTI' 'DIBYAJYOTI' 'DIBYAJYOTI' 'DIBYAJYOTI'\n",
      " 'DIBYAJYOTI' 'DIBYAJYOTI' 'DIBYAJYOTI' 'DIBYAJYOTI' 'DIBYAJYOTI'\n",
      " 'DIBYAJYOTI' 'DIBYAJYOTI' 'DIBYAJYOTI' 'DIBYAJYOTI' 'DIBYAJYOTI'\n",
      " 'DIBYAJYOTI' 'DIBYAJYOTI' 'DIBYAJYOTI' 'DIBYAJYOTI' 'DIBYAJYOTI'\n",
      " 'DIBYAJYOTI' 'DIBYAJYOTI' 'DIBYAJYOTI' 'DIBYAJYOTI' 'DIBYAJYOTI'\n",
      " 'DIBYAJYOTI' 'DIBYAJYOTI' 'DIBYAJYOTI' 'DIBYAJYOTI' 'DIBYAJYOTI'\n",
      " 'DIBYAJYOTI' 'DIBYAJYOTI' 'DIBYAJYOTI' 'DIBYAJYOTI' 'DIBYAJYOTI'\n",
      " 'DIBYAJYOTI' 'DIBYAJYOTI' 'DIBYAJYOTI' 'DIBYAJYOTI' 'DIBYAJYOTI'\n",
      " 'DIBYAJYOTI' 'DIBYAJYOTI' 'DIBYAJYOTI' 'DIBYAJYOTI' 'DIBYAJYOTI'\n",
      " 'DIBYAJYOTI' 'DIBYAJYOTI' 'DIBYAJYOTI' 'DIBYAJYOTI' 'DIBYAJYOTI'\n",
      " 'DIBYAJYOTI' 'DIBYAJYOTI' 'DIBYAJYOTI' 'DIBYAJYOTI' 'DIBYAJYOTI'\n",
      " 'DIBYAJYOTI' 'DIBYAJYOTI' 'DIBYAJYOTI' 'DIBYAJYOTI' 'DIBYAJYOTI'\n",
      " 'DIBYAJYOTI' 'DIBYAJYOTI' 'DIBYAJYOTI' 'DIBYAJYOTI' 'DIBYAJYOTI'\n",
      " 'DIBYAJYOTI' 'DIBYAJYOTI' 'DIBYAJYOTI' 'DIBYAJYOTI' 'DIBYAJYOTI'\n",
      " 'DIBYAJYOTI' 'DIBYAJYOTI' 'DIBYAJYOTI' 'DIBYAJYOTI' 'DIBYAJYOTI'\n",
      " 'DIBYAJYOTI' 'Kamal' 'Kamal' 'Kamal' 'Kamal' 'Kamal' 'Kamal' 'Kamal'\n",
      " 'Kamal' 'Kamal' 'Kamal' 'Kamal' 'Kamal' 'Kamal' 'Kamal' 'Kamal' 'Kamal'\n",
      " 'Kamal' 'Kamal' 'Kamal' 'Kamal' 'Kamal' 'Kamal' 'Kamal' 'Kamal' 'Kamal'\n",
      " 'Kamal' 'Kamal' 'Kamal' 'Kamal' 'Kamal' 'Kamal' 'Kamal' 'Kamal' 'Kamal'\n",
      " 'Kamal' 'Kamal' 'Kamal' 'Kamal' 'Kamal' 'Kamal' 'Kamal' 'Kamal' 'Kamal'\n",
      " 'Kamal' 'Kamal' 'Kamal' 'Kamal' 'Kamal' 'Kamal' 'Kamal' 'Kamal' 'Kamal'\n",
      " 'Kamal' 'Kamal' 'Kamal' 'Kamal' 'Kamal' 'Kamal' 'Kamal' 'Kamal' 'Kamal'\n",
      " 'Kamal' 'Kamal' 'Kamal' 'Kamal' 'Kamal' 'Kamal' 'Kamal' 'Kamal' 'Kamal'\n",
      " 'Kamal' 'Kamal' 'Kamal' 'Kamal' 'Kamal' 'Kamal' 'Kamal' 'Kamal' 'Kamal'\n",
      " 'Kamal' 'Kamal' 'Kamal' 'Kamal' 'Kamal' 'Kamal' 'Kamal' 'Kamal' 'Kamal'\n",
      " 'Kamal' 'Kamal' 'Kamal' 'Kamal' 'Kamal' 'Kamal' 'Kamal' 'Kamal' 'Kamal'\n",
      " 'Kamal' 'Kamal' 'Kamal' 'Sneha' 'Sneha' 'Sneha' 'Sneha' 'Sneha' 'Sneha'\n",
      " 'Sneha' 'Sneha' 'Sneha' 'Sneha' 'Sneha' 'Sneha' 'Sneha' 'Sneha' 'Sneha'\n",
      " 'Sneha' 'Sneha' 'Sneha' 'Sneha' 'Sneha' 'Sneha' 'Sneha' 'Sneha' 'Sneha'\n",
      " 'Sneha' 'Sneha' 'Sneha' 'Sneha' 'Sneha' 'Sneha' 'Sneha' 'Sneha' 'Sneha'\n",
      " 'Sneha' 'Sneha' 'Sneha' 'Sneha' 'Sneha' 'Sneha' 'Sneha' 'Sneha' 'Sneha'\n",
      " 'Sneha' 'Sneha' 'Sneha' 'Sneha' 'Sneha' 'Sneha' 'Sneha' 'Sneha' 'Sneha'\n",
      " 'Sneha' 'Sneha' 'Sneha' 'Sneha' 'Sneha' 'Sneha' 'Sneha' 'Sneha' 'Sneha'\n",
      " 'Sneha' 'Sneha' 'Sneha' 'Sneha' 'Sneha' 'Sneha' 'Sneha' 'Sneha' 'Sneha'\n",
      " 'Sneha' 'Sneha' 'Sneha' 'Sneha' 'Sneha' 'Sneha' 'Sneha' 'Sneha' 'Sneha'\n",
      " 'Sneha' 'Sneha' 'Sneha' 'Sneha' 'Sneha' 'Sneha' 'Sneha' 'Sneha' 'Sneha'\n",
      " 'Sneha' 'Sneha' 'Sneha' 'Sneha' 'Sneha' 'Sneha' 'Subham' 'Subham'\n",
      " 'Subham' 'Subham' 'Subham' 'Subham' 'Subham' 'Subham' 'Subham' 'Subham'\n",
      " 'Subham' 'Subham' 'Subham' 'Subham' 'Subham' 'Subham' 'Subham' 'Subham'\n",
      " 'Subham' 'Subham' 'Subham' 'Subham' 'Subham' 'Subham' 'Subham' 'Subham'\n",
      " 'Subham' 'Subham' 'Subham' 'Subham' 'Subham' 'Subham' 'Subham' 'Subham'\n",
      " 'Subham' 'Subham' 'Subham' 'Subham' 'Subham' 'Subham' 'Subham' 'Subham'\n",
      " 'Subham' 'Subham' 'Subham' 'Subham' 'Subham' 'Subham' 'Subham' 'Subham'\n",
      " 'Subham' 'Subham' 'Subham' 'Subham' 'Subham' 'Subham' 'Subham' 'Subham'\n",
      " 'Subham' 'Subham' 'Subham' 'Subham' 'Subham' 'Subham' 'Subham' 'Subham'\n",
      " 'Subham' 'Subham' 'Subham' 'Subham' 'Subham' 'Subham' 'Subham' 'Subham'\n",
      " 'Subham' 'Subham' 'Subham' 'Subham' 'Subham' 'Subham' 'Subham' 'Subham'\n",
      " 'Subham' 'Subham' 'Subham' 'Subham' 'Subham' 'Subham' 'Subham' 'Subham'\n",
      " 'Subham' 'Subham' 'Subham' 'Subham' 'Subham' 'Subham' 'Subham']\n"
     ]
    }
   ],
   "source": [
    "image_data = np.array(image_data)    \n",
    "labels = np.array(labels) \n",
    "\n",
    "print(labels)\n"
   ]
  },
  {
   "cell_type": "code",
   "execution_count": 8,
   "id": "e1e0e20d",
   "metadata": {},
   "outputs": [
    {
     "data": {
      "image/png": "[encoded data removed]",
      "text/plain": [
       "<Figure size 640x480 with 1 Axes>"
      ]
     },
     "metadata": {},
     "output_type": "display_data"
    }
   ],
   "source": [
    "import matplotlib.pyplot as plt\n",
    "plt.imshow(image_data[320],cmap=\"gray\")\n",
    "plt.show()\n",
    "\n",
    "\n"
   ]
  },
  {
   "cell_type": "code",
   "execution_count": 9,
   "id": "b4a2b54b",
   "metadata": {},
   "outputs": [],
   "source": [
    "with open(os.path.join(data_dir,\"images.p\"),'wb') as f:\n",
    "    pickle.dump(image_data,f)\n",
    "    \n",
    "    \n",
    "\n"
   ]
  },
  {
   "cell_type": "code",
   "execution_count": 10,
   "id": "03f64348",
   "metadata": {},
   "outputs": [],
   "source": [
    "with open(os.path.join(data_dir,\"labels.p\"),'wb') as f:\n",
    "    pickle.dump(labels,f)\n"
   ]
  },
  {
   "cell_type": "code",
   "execution_count": null,
   "id": "6ebbf334",
   "metadata": {},
   "outputs": [],
   "source": []
  }
 ],
 "metadata": {
  "kernelspec": {
   "display_name": "Python 3 (ipykernel)",
   "language": "python",
   "name": "python3"
  },
  "language_info": {
   "codemirror_mode": {
    "name": "ipython",
    "version": 3
   },
   "file_extension": ".py",
   "mimetype": "text/x-python",
   "name": "python",
   "nbconvert_exporter": "python",
   "pygments_lexer": "ipython3",
   "version": "3.11.0"
  }
 },
 "nbformat": 4,
 "nbformat_minor": 5
}
